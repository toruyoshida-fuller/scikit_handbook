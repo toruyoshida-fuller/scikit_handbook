{
  "nbformat": 4,
  "nbformat_minor": 0,
  "metadata": {
    "colab": {
      "name": "game_category_rate.ipynb",
      "provenance": [],
      "authorship_tag": "ABX9TyMs2XQsu1kr0o2q2k5n+w8T",
      "include_colab_link": true
    },
    "kernelspec": {
      "name": "python3",
      "display_name": "Python 3"
    }
  },
  "cells": [
    {
      "cell_type": "markdown",
      "metadata": {
        "id": "view-in-github",
        "colab_type": "text"
      },
      "source": [
        "<a href=\"https://colab.research.google.com/github/toruyoshida-fuller/scikit_handbook/blob/master/client-report/appmedia/game_category_rate_202101.ipynb\" target=\"_parent\"><img src=\"https://colab.research.google.com/assets/colab-badge.svg\" alt=\"Open In Colab\"/></a>"
      ]
    },
    {
      "cell_type": "markdown",
      "metadata": {
        "id": "PDOnrn9JSL1A"
      },
      "source": [
        "# App media 追加データ　ゲームのサブカテゴリMAU率"
      ]
    },
    {
      "cell_type": "markdown",
      "metadata": {
        "id": "eJ1qMnHhSh5R"
      },
      "source": [
        "## Import"
      ]
    },
    {
      "cell_type": "code",
      "metadata": {
        "id": "nsndcabsRle8"
      },
      "source": [
        "from google.cloud import bigquery\n",
        "import pandas as pd\n",
        "import numpy as np\n",
        "from google.colab import auth\n",
        "import gspread\n",
        "import gspread_dataframe\n",
        "from oauth2client.client import GoogleCredentials\n",
        "\n",
        "project_id = \"fl-gerber-bigquery\""
      ],
      "execution_count": null,
      "outputs": []
    },
    {
      "cell_type": "markdown",
      "metadata": {
        "id": "pnAfe5U7Smt7"
      },
      "source": [
        "## auth"
      ]
    },
    {
      "cell_type": "code",
      "metadata": {
        "id": "GUUyddEwSpAD"
      },
      "source": [
        "from google.colab import auth\n",
        "\n",
        "auth.authenticate_user()"
      ],
      "execution_count": null,
      "outputs": []
    },
    {
      "cell_type": "markdown",
      "metadata": {
        "id": "pWdc1HcmSwKT"
      },
      "source": [
        "## parameter\n",
        "\n",
        "月次データ"
      ]
    },
    {
      "cell_type": "code",
      "metadata": {
        "id": "hVhaUqi1StP5"
      },
      "source": [
        "MONTH =[\"2020-01-01\",\"2020-02-01\",\"2020-03-01\",\"2020-04-01\",\"2020-05-01\",\"2020-06-01\",\"2020-07-01\",\"2020-08-01\",\"2020-09-01\",\"2020-10-01\",\"2020-11-01\",\"2020-12-01\"]"
      ],
      "execution_count": null,
      "outputs": []
    },
    {
      "cell_type": "markdown",
      "metadata": {
        "id": "NlLstm1pUXAo"
      },
      "source": [
        "## Query"
      ]
    },
    {
      "cell_type": "code",
      "metadata": {
        "id": "2IBPV66SUYCs"
      },
      "source": [
        "cols =[\"month\",\"category1\",\"value_sum\",\"total_value\",\"rate\"]\n",
        "df1 =pd.DataFrame(index=[], columns=cols)\n",
        "for month in MONTH:\n",
        "    df_game_category = pd.io.gbq.read_gbq(\n",
        "        query=f\"\"\"\n",
        "        WITH\n",
        "  sampling_sample_user AS(\n",
        "  SELECT\n",
        "    DATE(datetime,'Asia/Tokyo') AS month,\n",
        "    device_id,\n",
        "    sex,\n",
        "    age\n",
        "  FROM\n",
        "    `fl-gerber-bigquery.jp_gerber_dataflow.android_monthly_sampling_sample_user`\n",
        "  WHERE\n",
        "    DATE(_PARTITIONTIME) >= \"{month}\"\n",
        "    AND DATE(_PARTITIONTIME) < (DATE_ADD(\"{month}\",INTERVAL 1 month))\n",
        "    ),\n",
        "  sampling_user_count_table AS (\n",
        "  SELECT\n",
        "    month,\n",
        "    COUNT(device_id) AS device_cnt\n",
        "  FROM\n",
        "    sampling_sample_user\n",
        "  GROUP BY\n",
        "    month ),\n",
        "  sampling_user_count_table_sum AS (\n",
        "  SELECT\n",
        "    SUM(device_cnt) AS device_sum\n",
        "  FROM\n",
        "    sampling_user_count_table ),\n",
        "  convert_store_info_v2 AS (\n",
        "  SELECT\n",
        "    app_id AS package_name,\n",
        "    CASE\n",
        "      WHEN ARRAY_LENGTH(categories)>=1 THEN categories[ OFFSET (0)]\n",
        "  END\n",
        "    category1,\n",
        "    CASE\n",
        "      WHEN ARRAY_LENGTH(categories)>=2 THEN categories[ OFFSET (1)]\n",
        "  END\n",
        "    category2,\n",
        "    CAST( total_downloads_lower AS int64 ) AS total_downloads_lower,\n",
        "    SAFE_CAST(inapp_purchase_lower AS int64 ) AS inapp_purchase_lower,\n",
        "    SAFE_CAST(inapp_purchase_upper AS int64 ) AS inapp_purchase_upper,\n",
        "    name,\n",
        "    developer_name,\n",
        "    developer_url,\n",
        "    developer_email,\n",
        "    developer_address,\n",
        "    icon_url,\n",
        "    description\n",
        "  FROM\n",
        "    `fl-gerber-bigquery.jp_informant_v2.googleplay_store`\n",
        "  WHERE\n",
        "    DATE(_PARTITIONTIME ) = (DATE_ADD(\"{month}\",INTERVAL 1 month )) ),\n",
        "  sampling_sample_coefficient AS(\n",
        "  SELECT\n",
        "    DATE(datetime,'Asia/Tokyo') AS month,\n",
        "    sex,\n",
        "    age,\n",
        "    value\n",
        "  FROM\n",
        "    `fl-gerber-bigquery.jp_gerber_dataflow.android_monthly_sampling_coefficient`\n",
        "  WHERE\n",
        "    DATE(_PARTITIONTIME) >= \"{month}\"\n",
        "    AND DATE(_PARTITIONTIME) < (DATE_ADD(\"{month}\",INTERVAL 1 month))),\n",
        "  sampling_sample_launch AS(\n",
        "  SELECT\n",
        "    DATE(datetime,'Asia/Tokyo') AS month,\n",
        "    device_id,\n",
        "    package_name\n",
        "  FROM\n",
        "    `fl-gerber-bigquery.jp_gerber_dataflow.android_monthly_sampling_sample_launch`\n",
        "  WHERE\n",
        "    DATE(_PARTITIONTIME) >= \"{month}\"\n",
        "    AND DATE(_PARTITIONTIME) < (DATE_ADD(\"{month}\",INTERVAL 1 month))\n",
        "  GROUP BY\n",
        "    month,\n",
        "    device_id,\n",
        "    package_name),\n",
        "  sampling_sample_launch_store AS (\n",
        "  SELECT\n",
        "    month,\n",
        "    device_id,\n",
        "    category1,\n",
        "    package_name\n",
        "  FROM\n",
        "    sampling_sample_launch\n",
        "  JOIN\n",
        "    convert_store_info_v2\n",
        "  USING\n",
        "    (package_name) ),\n",
        "  sampling_sample_launch_weighted AS (\n",
        "  SELECT\n",
        "    month,\n",
        "    device_id,\n",
        "    package_name,\n",
        "    category1,\n",
        "    sex,\n",
        "    age,\n",
        "    value\n",
        "  FROM\n",
        "    sampling_sample_launch_store\n",
        "  JOIN\n",
        "    sampling_sample_user\n",
        "  USING\n",
        "    (month,\n",
        "      device_id)\n",
        "  JOIN\n",
        "    sampling_sample_coefficient\n",
        "  USING\n",
        "    (month,\n",
        "      sex,\n",
        "      age)\n",
        "  WHERE\n",
        "    NOT package_name IN ('bimz.ux.panelOverlay',\n",
        "      'bitsie.playmee.musicplayer.free',\n",
        "      'co.testee.android',\n",
        "      'com.blackout',\n",
        "      'com.crimsonscythe.proximityunlock',\n",
        "      'com.dbd.pdfcreator',\n",
        "      'com.imovieCYH666',\n",
        "      'com.kdanmobile.android.pdfreader.google.pad',\n",
        "      'com.mkt_apps.absurvey',\n",
        "      'com.moon.iphone.lockscreen',\n",
        "      'com.necta.wifimousefree',\n",
        "      'com.pindrop.music',\n",
        "      'com.treydev.mns',\n",
        "      'com.treydev.msb',\n",
        "      'com.treydev.msb.pro',\n",
        "      'de.android.telnet',\n",
        "      'de.android.wifiscanner',\n",
        "      'de.android.wifiscannes',\n",
        "      'forinnovation.phoneaddiction',\n",
        "      'forinnovation.phoneaddictioo',\n",
        "      'jp.co.fuller.catenary.android',\n",
        "      'jp.co.fuller.catenary.au.kids',\n",
        "      'jp.co.fuller.cognitrip',\n",
        "      'jp.co.fuller.munai_kuma_battery',\n",
        "      'jp.co.fuller.munai_kuma_qr',\n",
        "      'jp.co.fuller.octettruss.android',\n",
        "      'jp.co.fuller.ojisancollection2.mobile',\n",
        "      'jp.co.fuller.qr_ojisan_android',\n",
        "      'jp.co.fuller.trimtab.x.android.couple',\n",
        "      'jp.co.fuller.trimtab.x.android.gamer',\n",
        "      'jp.co.fuller.trimtab.y.android.power.white',\n",
        "      'jp.co.fuller.trimtab_android',\n",
        "      'jp.co.fuller.wmeteor.ffbe',\n",
        "      'kr.co.rinasoft.howuse',\n",
        "      'wsm.wifimousefree')\n",
        "  GROUP BY\n",
        "    month,\n",
        "    device_id,\n",
        "    package_name,\n",
        "    category1,\n",
        "    sex,\n",
        "    age,\n",
        "    value ),\n",
        "  sampling_sample_launch_weighted_count AS (\n",
        "  SELECT\n",
        "    month,\n",
        "    category1,\n",
        "    SUM(value) AS value_sum\n",
        "  FROM\n",
        "    sampling_sample_launch_weighted\n",
        "  WHERE\n",
        "    category1 LIKE '%GAME%'  ---ここでジャンル指定する。\n",
        "  GROUP BY\n",
        "    month,\n",
        "    category1),\n",
        "  value_sum_total AS (\n",
        "  SELECT\n",
        "    SUM (value_sum) AS total_value\n",
        "  FROM\n",
        "    sampling_sample_launch_weighted_count ),\n",
        "  category_table AS (\n",
        "  SELECT\n",
        "    month,\n",
        "    category1,\n",
        "    value_sum,\n",
        "    total_value,\n",
        "    value_sum / total_value AS rate\n",
        "  FROM\n",
        "    sampling_sample_launch_weighted_count\n",
        "  CROSS JOIN\n",
        "    value_sum_total )\n",
        "SELECT\n",
        "  *\n",
        "FROM\n",
        "  category_table\n",
        "  ORDER BY rate desc\n",
        "  \"\"\",\n",
        "    project_id =project_id,\n",
        "    )\n",
        "    df1 = df1.append(df_game_category)  "
      ],
      "execution_count": null,
      "outputs": []
    },
    {
      "cell_type": "code",
      "metadata": {
        "colab": {
          "base_uri": "https://localhost:8080/",
          "height": 406
        },
        "id": "IPWMMbQhcJrQ",
        "outputId": "344de15f-6b5a-4906-a94e-d2bee505eea1"
      },
      "source": [
        "df1"
      ],
      "execution_count": null,
      "outputs": [
        {
          "output_type": "execute_result",
          "data": {
            "text/html": [
              "<div>\n",
              "<style scoped>\n",
              "    .dataframe tbody tr th:only-of-type {\n",
              "        vertical-align: middle;\n",
              "    }\n",
              "\n",
              "    .dataframe tbody tr th {\n",
              "        vertical-align: top;\n",
              "    }\n",
              "\n",
              "    .dataframe thead th {\n",
              "        text-align: right;\n",
              "    }\n",
              "</style>\n",
              "<table border=\"1\" class=\"dataframe\">\n",
              "  <thead>\n",
              "    <tr style=\"text-align: right;\">\n",
              "      <th></th>\n",
              "      <th>month</th>\n",
              "      <th>category1</th>\n",
              "      <th>value_sum</th>\n",
              "      <th>total_value</th>\n",
              "      <th>rate</th>\n",
              "    </tr>\n",
              "  </thead>\n",
              "  <tbody>\n",
              "    <tr>\n",
              "      <th>0</th>\n",
              "      <td>2020-01-01</td>\n",
              "      <td>GAME_PUZZLE</td>\n",
              "      <td>17867.746010</td>\n",
              "      <td>74819.941871</td>\n",
              "      <td>0.238810</td>\n",
              "    </tr>\n",
              "    <tr>\n",
              "      <th>1</th>\n",
              "      <td>2020-01-01</td>\n",
              "      <td>GAME_ROLE_PLAYING</td>\n",
              "      <td>9781.612689</td>\n",
              "      <td>74819.941871</td>\n",
              "      <td>0.130735</td>\n",
              "    </tr>\n",
              "    <tr>\n",
              "      <th>2</th>\n",
              "      <td>2020-01-01</td>\n",
              "      <td>GAME_ACTION</td>\n",
              "      <td>7958.224697</td>\n",
              "      <td>74819.941871</td>\n",
              "      <td>0.106365</td>\n",
              "    </tr>\n",
              "    <tr>\n",
              "      <th>3</th>\n",
              "      <td>2020-01-01</td>\n",
              "      <td>GAME_CASUAL</td>\n",
              "      <td>6877.889203</td>\n",
              "      <td>74819.941871</td>\n",
              "      <td>0.091926</td>\n",
              "    </tr>\n",
              "    <tr>\n",
              "      <th>4</th>\n",
              "      <td>2020-01-01</td>\n",
              "      <td>GAME_SIMULATION</td>\n",
              "      <td>6486.018238</td>\n",
              "      <td>74819.941871</td>\n",
              "      <td>0.086688</td>\n",
              "    </tr>\n",
              "    <tr>\n",
              "      <th>...</th>\n",
              "      <td>...</td>\n",
              "      <td>...</td>\n",
              "      <td>...</td>\n",
              "      <td>...</td>\n",
              "      <td>...</td>\n",
              "    </tr>\n",
              "    <tr>\n",
              "      <th>12</th>\n",
              "      <td>2020-12-01</td>\n",
              "      <td>GAME_CASINO</td>\n",
              "      <td>1671.469352</td>\n",
              "      <td>60882.915992</td>\n",
              "      <td>0.027454</td>\n",
              "    </tr>\n",
              "    <tr>\n",
              "      <th>13</th>\n",
              "      <td>2020-12-01</td>\n",
              "      <td>GAME_EDUCATIONAL</td>\n",
              "      <td>935.131683</td>\n",
              "      <td>60882.915992</td>\n",
              "      <td>0.015360</td>\n",
              "    </tr>\n",
              "    <tr>\n",
              "      <th>14</th>\n",
              "      <td>2020-12-01</td>\n",
              "      <td>GAME_TRIVIA</td>\n",
              "      <td>705.951054</td>\n",
              "      <td>60882.915992</td>\n",
              "      <td>0.011595</td>\n",
              "    </tr>\n",
              "    <tr>\n",
              "      <th>15</th>\n",
              "      <td>2020-12-01</td>\n",
              "      <td>GAME_WORD</td>\n",
              "      <td>465.683328</td>\n",
              "      <td>60882.915992</td>\n",
              "      <td>0.007649</td>\n",
              "    </tr>\n",
              "    <tr>\n",
              "      <th>16</th>\n",
              "      <td>2020-12-01</td>\n",
              "      <td>GAME_RACING</td>\n",
              "      <td>416.514599</td>\n",
              "      <td>60882.915992</td>\n",
              "      <td>0.006841</td>\n",
              "    </tr>\n",
              "  </tbody>\n",
              "</table>\n",
              "<p>204 rows × 5 columns</p>\n",
              "</div>"
            ],
            "text/plain": [
              "        month          category1     value_sum   total_value      rate\n",
              "0  2020-01-01        GAME_PUZZLE  17867.746010  74819.941871  0.238810\n",
              "1  2020-01-01  GAME_ROLE_PLAYING   9781.612689  74819.941871  0.130735\n",
              "2  2020-01-01        GAME_ACTION   7958.224697  74819.941871  0.106365\n",
              "3  2020-01-01        GAME_CASUAL   6877.889203  74819.941871  0.091926\n",
              "4  2020-01-01    GAME_SIMULATION   6486.018238  74819.941871  0.086688\n",
              "..        ...                ...           ...           ...       ...\n",
              "12 2020-12-01        GAME_CASINO   1671.469352  60882.915992  0.027454\n",
              "13 2020-12-01   GAME_EDUCATIONAL    935.131683  60882.915992  0.015360\n",
              "14 2020-12-01        GAME_TRIVIA    705.951054  60882.915992  0.011595\n",
              "15 2020-12-01          GAME_WORD    465.683328  60882.915992  0.007649\n",
              "16 2020-12-01        GAME_RACING    416.514599  60882.915992  0.006841\n",
              "\n",
              "[204 rows x 5 columns]"
            ]
          },
          "metadata": {
            "tags": []
          },
          "execution_count": 24
        }
      ]
    },
    {
      "cell_type": "markdown",
      "metadata": {
        "id": "0g3Zj7RjgrMu"
      },
      "source": [
        "## Output"
      ]
    },
    {
      "cell_type": "code",
      "metadata": {
        "id": "Dnl-uH2ycKmH"
      },
      "source": [
        "gc = gspread.authorize(GoogleCredentials.get_application_default())\n",
        "ss = gc.open_by_url(\n",
        "    \"https://docs.google.com/spreadsheets/d/1OOrWtPMdwnGefEufVrMn2_LosvvUmDuJBcJvX3h-4wg/edit#gid=0\"  # アウトプットシート\n",
        ")\n",
        "gspread_dataframe.set_with_dataframe(ss.get_worksheet(0), df1)"
      ],
      "execution_count": null,
      "outputs": []
    }
  ]
}